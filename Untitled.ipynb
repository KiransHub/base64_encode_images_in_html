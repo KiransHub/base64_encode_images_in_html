{
 "cells": [
  {
   "cell_type": "code",
   "execution_count": 1,
   "metadata": {},
   "outputs": [
    {
     "name": "stdout",
     "output_type": "stream",
     "text": [
      "Requirement already satisfied: beautifulsoup4 in c:\\python37\\lib\\site-packages (4.8.1)\n",
      "Requirement already satisfied: soupsieve>=1.2 in c:\\python37\\lib\\site-packages (from beautifulsoup4) (1.9.5)\n",
      "Requirement already satisfied: PILLOW in c:\\python37\\lib\\site-packages (6.2.1)\n",
      "Requirement already satisfied: html5lib in c:\\python37\\lib\\site-packages (1.0.1)\n",
      "Requirement already satisfied: six>=1.9 in c:\\python37\\lib\\site-packages (from html5lib) (1.10.0)\n",
      "Requirement already satisfied: webencodings in c:\\python37\\lib\\site-packages (from html5lib) (0.5.1)\n"
     ]
    }
   ],
   "source": [
    "!pip install beautifulsoup4\n",
    "!pip install PILLOW\n",
    "!pip install html5lib"
   ]
  },
  {
   "cell_type": "code",
   "execution_count": 44,
   "metadata": {},
   "outputs": [],
   "source": [
    "\n",
    "\n",
    "def get_image_from_url(url): \n",
    "    from PIL import Image\n",
    "    import requests\n",
    "    from io import BytesIO\n",
    "\n",
    "    response = requests.get(url)\n",
    "    img = Image.open(BytesIO(response.content)).convert('RGB')\n",
    "   \n",
    "    return img\n",
    "\n",
    "def resize_image(w, h, image): \n",
    "    \n",
    "    \n",
    "    if (w == 'auto' or h == 'auto'): \n",
    "        w = image.width \n",
    "        h = image.height\n",
    "\n",
    "    if (w == '100%' or h == '100%'): \n",
    "        w = image.width \n",
    "        h = image.height\n",
    "\n",
    "    size = (int(w),int(h))\n",
    "    return image.resize(size, resample=0)\n",
    "     \n",
    "\n",
    "def image_to_base64(image):\n",
    "    import base64\n",
    "    from io import BytesIO\n",
    "\n",
    "    buffered = BytesIO()\n",
    "    image.save(buffered, format=\"JPEG\")\n",
    "    img_str = base64.b64encode(buffered.getvalue())\n",
    "    \n",
    "    img_str = str(img_str, \"utf-8\").replace(\"data:image/jpg;base64,b'\",\"data:image/jpg;base64,\")\n",
    "#     img_str = img_str[:-1]\n",
    "    return img_str"
   ]
  },
  {
   "cell_type": "code",
   "execution_count": 45,
   "metadata": {},
   "outputs": [
    {
     "name": "stdout",
     "output_type": "stream",
     "text": [
      "done\n"
     ]
    }
   ],
   "source": [
    "from bs4 import BeautifulSoup\n",
    "from os.path import basename, splitext\n",
    "\n",
    "\n",
    "with open(\"landing.html\", \"r\", encoding=\"UTF-8\") as f:\n",
    "    \n",
    "    contents = f.read()\n",
    " \n",
    "    \n",
    "soup = BeautifulSoup(contents, 'html.parser')\n",
    "\n",
    "\n",
    "for img in soup.findAll('img'):\n",
    "   \n",
    "    url = img['src']\n",
    "    \n",
    "    if('fls-eu.amazon.com' not in url):\n",
    "      \n",
    "        im = get_image_from_url(url)\n",
    "\n",
    "        if img.has_attr('width'):\n",
    "            w = img['width']\n",
    "        else: \n",
    "            w = 'auto'\n",
    "            \n",
    "        if img.has_attr('height'):\n",
    "            h = img['height']\n",
    "        else: \n",
    "            h = 'auto'\n",
    "\n",
    "        im = resize_image(w, h, im)\n",
    "\n",
    "        img['src'] = f'data:image/jpg;base64,{image_to_base64(im)}'\n",
    "        \n",
    "        \n",
    "my_html_string = str(soup)\n",
    "\n",
    "\n",
    "\n",
    "import codecs\n",
    "\n",
    "file = codecs.open(\"output.html\", \"w\", \"utf-8\")\n",
    "file.write(my_html_string)\n",
    "file.close()\n",
    "\n",
    "print(\"done\")"
   ]
  },
  {
   "cell_type": "code",
   "execution_count": null,
   "metadata": {},
   "outputs": [],
   "source": []
  }
 ],
 "metadata": {
  "kernelspec": {
   "display_name": "Python 3",
   "language": "python",
   "name": "python3"
  },
  "language_info": {
   "codemirror_mode": {
    "name": "ipython",
    "version": 3
   },
   "file_extension": ".py",
   "mimetype": "text/x-python",
   "name": "python",
   "nbconvert_exporter": "python",
   "pygments_lexer": "ipython3",
   "version": "3.7.4"
  }
 },
 "nbformat": 4,
 "nbformat_minor": 2
}
